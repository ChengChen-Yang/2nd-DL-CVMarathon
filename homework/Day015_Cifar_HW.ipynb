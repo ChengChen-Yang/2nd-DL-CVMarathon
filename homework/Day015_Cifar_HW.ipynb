{
 "cells": [
  {
   "cell_type": "markdown",
   "metadata": {},
   "source": [
    "## 『本次練習內容』\n",
    "#### 運用這幾天所學觀念搭建一個CNN分類器"
   ]
  },
  {
   "cell_type": "markdown",
   "metadata": {},
   "source": [
    "## 『本次練習目的』\n",
    "  #### 熟悉CNN分類器搭建步驟與原理\n",
    "  #### 學員們可以嘗試不同搭法，如使用不同的Maxpooling層，用GlobalAveragePooling取代Flatten等等"
   ]
  },
  {
   "cell_type": "code",
   "execution_count": 1,
   "metadata": {},
   "outputs": [
    {
     "name": "stderr",
     "output_type": "stream",
     "text": [
      "Using TensorFlow backend.\n"
     ]
    }
   ],
   "source": [
    "from keras.models import Sequential\n",
    "from keras.layers import Convolution2D\n",
    "from keras.layers import MaxPooling2D\n",
    "from keras.layers import Flatten\n",
    "from keras.layers import Dense\n",
    "from keras.layers import Dropout\n",
    "from keras.layers import BatchNormalization\n",
    "from keras.datasets import cifar10\n",
    "import numpy as np\n",
    "import tensorflow as tf\n",
    "from sklearn.preprocessing import OneHotEncoder\n"
   ]
  },
  {
   "cell_type": "code",
   "execution_count": 2,
   "metadata": {},
   "outputs": [
    {
     "name": "stdout",
     "output_type": "stream",
     "text": [
      "(50000, 32, 32, 3)\n"
     ]
    }
   ],
   "source": [
    "(x_train, y_train), (x_test, y_test) = cifar10.load_data()\n",
    "\n",
    "print(x_train.shape) #(50000, 32, 32, 3)\n",
    "\n",
    "## Normalize Data\n",
    "def normalize(X_train,X_test):\n",
    "        mean = np.mean(X_train,axis=(0,1,2,3))\n",
    "        std = np.std(X_train, axis=(0, 1, 2, 3))\n",
    "        X_train = (X_train-mean)/(std+1e-7)\n",
    "        X_test = (X_test-mean)/(std+1e-7) \n",
    "        return X_train, X_test,mean,std\n",
    "    \n",
    "    \n",
    "## Normalize Training and Testset    \n",
    "x_train, x_test,mean_train,std_train = normalize(x_train, x_test) "
   ]
  },
  {
   "cell_type": "code",
   "execution_count": 3,
   "metadata": {},
   "outputs": [
    {
     "name": "stderr",
     "output_type": "stream",
     "text": [
      "d:\\project at home\\project-plan b\\venv\\lib\\site-packages\\sklearn\\preprocessing\\_encoders.py:415: FutureWarning: The handling of integer data will change in version 0.22. Currently, the categories are determined based on the range [0, max(values)], while in the future they will be determined based on the unique values.\n",
      "If you want the future behaviour and silence this warning, you can specify \"categories='auto'\".\n",
      "In case you used a LabelEncoder before this OneHotEncoder to convert the categories to integers, then you can now use the OneHotEncoder directly.\n",
      "  warnings.warn(msg, FutureWarning)\n"
     ]
    }
   ],
   "source": [
    "## OneHot Label 由(None, 1)-(None, 10)\n",
    "## ex. label=2,變成[0,0,1,0,0,0,0,0,0,0]\n",
    "one_hot=OneHotEncoder()\n",
    "y_train=one_hot.fit_transform(y_train).toarray()\n",
    "y_test=one_hot.transform(y_test).toarray()"
   ]
  },
  {
   "cell_type": "code",
   "execution_count": 11,
   "metadata": {},
   "outputs": [
    {
     "name": "stderr",
     "output_type": "stream",
     "text": [
      "d:\\project at home\\project-plan b\\venv\\lib\\site-packages\\ipykernel_launcher.py:4: UserWarning: Update your `Conv2D` call to the Keras 2 API: `Conv2D(32, (3, 3), activation=\"relu\", input_shape=(32, 32, 3...)`\n",
      "  after removing the cwd from sys.path.\n",
      "d:\\project at home\\project-plan b\\venv\\lib\\site-packages\\ipykernel_launcher.py:12: UserWarning: Update your `Conv2D` call to the Keras 2 API: `Conv2D(32, (3, 3), activation=\"relu\")`\n",
      "  if sys.path[0] == '':\n",
      "d:\\project at home\\project-plan b\\venv\\lib\\site-packages\\ipykernel_launcher.py:23: UserWarning: Update your `Dense` call to the Keras 2 API: `Dense(activation=\"sigmoid\", units=10)`\n"
     ]
    },
    {
     "name": "stdout",
     "output_type": "stream",
     "text": [
      "Epoch 1/20\n",
      "50000/50000 [==============================] - 37s 743us/step - loss: 1.4005 - accuracy: 0.5185\n",
      "Epoch 2/20\n",
      "50000/50000 [==============================] - 37s 739us/step - loss: 0.8598 - accuracy: 0.6930\n",
      "Epoch 3/20\n",
      "50000/50000 [==============================] - 37s 748us/step - loss: 0.6021 - accuracy: 0.7843\n",
      "Epoch 4/20\n",
      "50000/50000 [==============================] - 37s 737us/step - loss: 0.4114 - accuracy: 0.8505\n",
      "Epoch 5/20\n",
      "50000/50000 [==============================] - 37s 737us/step - loss: 0.2708 - accuracy: 0.9040\n",
      "Epoch 6/20\n",
      "50000/50000 [==============================] - 38s 761us/step - loss: 0.1913 - accuracy: 0.9321\n",
      "Epoch 7/20\n",
      "50000/50000 [==============================] - 37s 733us/step - loss: 0.1323 - accuracy: 0.9547\n",
      "Epoch 8/20\n",
      "50000/50000 [==============================] - 37s 734us/step - loss: 0.1195 - accuracy: 0.9579\n",
      "Epoch 9/20\n",
      "50000/50000 [==============================] - 37s 737us/step - loss: 0.1125 - accuracy: 0.9607\n",
      "Epoch 10/20\n",
      "50000/50000 [==============================] - 37s 737us/step - loss: 0.0902 - accuracy: 0.9687\n",
      "Epoch 11/20\n",
      "50000/50000 [==============================] - 37s 737us/step - loss: 0.0867 - accuracy: 0.9696\n",
      "Epoch 12/20\n",
      "50000/50000 [==============================] - 37s 749us/step - loss: 0.0649 - accuracy: 0.9773\n",
      "Epoch 13/20\n",
      "50000/50000 [==============================] - 37s 740us/step - loss: 0.0677 - accuracy: 0.9767\n",
      "Epoch 14/20\n",
      "50000/50000 [==============================] - 37s 740us/step - loss: 0.0738 - accuracy: 0.9745\n",
      "Epoch 15/20\n",
      "50000/50000 [==============================] - 37s 735us/step - loss: 0.0550 - accuracy: 0.9812\n",
      "Epoch 16/20\n",
      "50000/50000 [==============================] - 38s 752us/step - loss: 0.0540 - accuracy: 0.9820\n",
      "Epoch 17/20\n",
      "50000/50000 [==============================] - 37s 748us/step - loss: 0.0635 - accuracy: 0.9788\n",
      "Epoch 18/20\n",
      "50000/50000 [==============================] - 37s 735us/step - loss: 0.0630 - accuracy: 0.9787\n",
      "Epoch 19/20\n",
      "50000/50000 [==============================] - 37s 733us/step - loss: 0.0533 - accuracy: 0.9819\n",
      "Epoch 20/20\n",
      "50000/50000 [==============================] - 37s 734us/step - loss: 0.0457 - accuracy: 0.9844\n"
     ]
    },
    {
     "data": {
      "text/plain": [
       "<keras.callbacks.callbacks.History at 0x21ce52fce10>"
      ]
     },
     "execution_count": 11,
     "metadata": {},
     "output_type": "execute_result"
    }
   ],
   "source": [
    "\n",
    "classifier=Sequential()\n",
    "\n",
    "#卷積組合\n",
    "classifier.add(Convolution2D(32, 3, 3,activation='relu',input_shape=(32,32,3)))#32,3,3,input_shape=(32,32,3),activation='relu''\n",
    "classifier.add(MaxPooling2D(pool_size=(2,2)))\n",
    "classifier.add(BatchNormalization(axis=-1, momentum=0.8, epsilon=0.01))\n",
    "\n",
    "'''自己決定MaxPooling2D放在哪裡'''\n",
    "# classifier.add(MaxPooling2D(pool_size=(2,2)))\n",
    "\n",
    "#卷積組合\n",
    "classifier.add(Convolution2D(32, 3, 3, activation='relu'))\n",
    "classifier.add(BatchNormalization(axis=-1, momentum=0.8, epsilon=0.03))\n",
    "\n",
    "#flatten\n",
    "classifier.add(Flatten())\n",
    "\n",
    "#FC\n",
    "classifier.add(Dense(128, activation='relu')) \n",
    "#output_dim=100,activation=relu\n",
    "\n",
    "#輸出\n",
    "classifier.add(Dense(output_dim=10,activation='sigmoid'))\n",
    "\n",
    "#超過兩個就要選categorical_crossentrophy\n",
    "classifier.compile(optimizer = 'adam', loss = 'categorical_crossentropy', metrics = ['accuracy'])\n",
    "classifier.fit(x_train,y_train,batch_size=100,epochs=20)"
   ]
  },
  {
   "cell_type": "markdown",
   "metadata": {},
   "source": [
    "## 預測新圖片，輸入影像前處理要與訓練時相同\n",
    "#### ((X-mean)/(std+1e-7) ):這裡的mean跟std是訓練集的\n",
    "## 維度如下方示範"
   ]
  },
  {
   "cell_type": "code",
   "execution_count": 10,
   "metadata": {},
   "outputs": [
    {
     "data": {
      "text/plain": [
       "array([[1.3455086e-03, 2.9456403e-11, 5.0924493e-05, 6.9430310e-01,\n",
       "        2.1966207e-03, 1.1868378e-07, 2.8188884e-07, 3.0138224e-06,\n",
       "        5.8127195e-04, 3.4607449e-11]], dtype=float32)"
      ]
     },
     "execution_count": 10,
     "metadata": {},
     "output_type": "execute_result"
    }
   ],
   "source": [
    "input_example=(np.zeros(shape=(1,32,32,3))-mean_train)/(std_train+1e-7) \n",
    "classifier.predict(input_example)"
   ]
  },
  {
   "cell_type": "code",
   "execution_count": null,
   "metadata": {},
   "outputs": [],
   "source": []
  }
 ],
 "metadata": {
  "kernelspec": {
   "display_name": "Python 3",
   "language": "python",
   "name": "python3"
  },
  "language_info": {
   "codemirror_mode": {
    "name": "ipython",
    "version": 3
   },
   "file_extension": ".py",
   "mimetype": "text/x-python",
   "name": "python",
   "nbconvert_exporter": "python",
   "pygments_lexer": "ipython3",
   "version": "3.6.8"
  }
 },
 "nbformat": 4,
 "nbformat_minor": 2
}
